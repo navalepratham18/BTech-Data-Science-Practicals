{
 "cells": [
  {
   "cell_type": "markdown",
   "id": "95b3ba8c-f19e-4db9-8e14-b514322097fd",
   "metadata": {},
   "source": [
    "## testing"
   ]
  },
  {
   "cell_type": "code",
   "execution_count": 2,
   "id": "5c720bcb-4cc5-4e9c-ab9b-b279583e80b9",
   "metadata": {},
   "outputs": [
    {
     "name": "stdout",
     "output_type": "stream",
     "text": [
      "hello\n"
     ]
    }
   ],
   "source": [
    "print(\"hello\")"
   ]
  },
  {
   "cell_type": "markdown",
   "id": "f95918eb-fc52-4fdd-ae3b-6e4d2e0ea667",
   "metadata": {},
   "source": [
    "# Creating a DataFrame"
   ]
  },
  {
   "cell_type": "code",
   "execution_count": 23,
   "id": "2160b7df-519d-4107-834a-1e9b1a431b1f",
   "metadata": {},
   "outputs": [],
   "source": [
    "import pandas as pd"
   ]
  },
  {
   "cell_type": "markdown",
   "id": "a112c251-d3f8-4b37-bb0c-d47a2af118f3",
   "metadata": {},
   "source": [
    "## Inserting data Element in dataframe"
   ]
  },
  {
   "cell_type": "code",
   "execution_count": 26,
   "id": "5ca6b698-9588-4c13-9eb7-48e764416a61",
   "metadata": {},
   "outputs": [],
   "source": [
    "data = {\n",
    "    'Name' : ['ShreeCant', 'NoobEngineer', 'Bob'],\n",
    "    'Age' : [18, 20, 8],\n",
    "    'City' : ['Wakad', 'Talegaon','UK']\n",
    "}"
   ]
  },
  {
   "cell_type": "markdown",
   "id": "521cb785-7d68-4ad2-be49-dfccce84bba1",
   "metadata": {},
   "source": [
    "## Printing Elements from Dataframe"
   ]
  },
  {
   "cell_type": "code",
   "execution_count": 28,
   "id": "a8e2796e-3cb0-4715-9274-8125dca11136",
   "metadata": {},
   "outputs": [
    {
     "data": {
      "text/html": [
       "<div>\n",
       "<style scoped>\n",
       "    .dataframe tbody tr th:only-of-type {\n",
       "        vertical-align: middle;\n",
       "    }\n",
       "\n",
       "    .dataframe tbody tr th {\n",
       "        vertical-align: top;\n",
       "    }\n",
       "\n",
       "    .dataframe thead th {\n",
       "        text-align: right;\n",
       "    }\n",
       "</style>\n",
       "<table border=\"1\" class=\"dataframe\">\n",
       "  <thead>\n",
       "    <tr style=\"text-align: right;\">\n",
       "      <th></th>\n",
       "      <th>Name</th>\n",
       "      <th>Age</th>\n",
       "      <th>City</th>\n",
       "    </tr>\n",
       "  </thead>\n",
       "  <tbody>\n",
       "    <tr>\n",
       "      <th>0</th>\n",
       "      <td>ShreeCant</td>\n",
       "      <td>18</td>\n",
       "      <td>Wakad</td>\n",
       "    </tr>\n",
       "    <tr>\n",
       "      <th>1</th>\n",
       "      <td>NoobEngineer</td>\n",
       "      <td>20</td>\n",
       "      <td>Talegaon</td>\n",
       "    </tr>\n",
       "    <tr>\n",
       "      <th>2</th>\n",
       "      <td>Bob</td>\n",
       "      <td>8</td>\n",
       "      <td>UK</td>\n",
       "    </tr>\n",
       "  </tbody>\n",
       "</table>\n",
       "</div>"
      ],
      "text/plain": [
       "           Name  Age      City\n",
       "0     ShreeCant   18     Wakad\n",
       "1  NoobEngineer   20  Talegaon\n",
       "2           Bob    8        UK"
      ]
     },
     "execution_count": 28,
     "metadata": {},
     "output_type": "execute_result"
    }
   ],
   "source": [
    "pd.DataFrame(data)"
   ]
  },
  {
   "cell_type": "markdown",
   "id": "136fb954-cbb9-4d47-aa22-afb67f0f94bc",
   "metadata": {},
   "source": [
    "# >> Series"
   ]
  },
  {
   "cell_type": "code",
   "execution_count": 43,
   "id": "2dd20479-44a3-4bde-aecb-2983778bd778",
   "metadata": {},
   "outputs": [
    {
     "data": {
      "text/plain": [
       "0    23\n",
       "1     2\n",
       "2     4\n",
       "Name: Age, dtype: int64"
      ]
     },
     "execution_count": 43,
     "metadata": {},
     "output_type": "execute_result"
    }
   ],
   "source": [
    "df = pd.Series([23,2,4], name='Age')\n",
    "df"
   ]
  },
  {
   "cell_type": "markdown",
   "id": "40492ec4-7e56-4e9e-8fd4-ff247831ae77",
   "metadata": {},
   "source": [
    "## Series from list : \n"
   ]
  },
  {
   "cell_type": "code",
   "execution_count": 47,
   "id": "6c5a2818-0611-47ad-9c7c-c5737f5f600a",
   "metadata": {},
   "outputs": [
    {
     "data": {
      "text/plain": [
       "0    India\n",
       "1      USA\n",
       "2       UK\n",
       "dtype: object"
      ]
     },
     "execution_count": 47,
     "metadata": {},
     "output_type": "execute_result"
    }
   ],
   "source": [
    "# String\n",
    "country = ['India', 'USA', 'UK']\n",
    "pd.Series(country)"
   ]
  },
  {
   "cell_type": "code",
   "execution_count": 49,
   "id": "c1cf0b13-5acb-4cbf-9c8a-b6adc47fcc82",
   "metadata": {},
   "outputs": [
    {
     "data": {
      "text/plain": [
       "0    28\n",
       "1    99\n",
       "2    48\n",
       "dtype: int64"
      ]
     },
     "execution_count": 49,
     "metadata": {},
     "output_type": "execute_result"
    }
   ],
   "source": [
    "# Interger\n",
    "run = [28,99,48]\n",
    "pd.Series(run)"
   ]
  },
  {
   "cell_type": "code",
   "execution_count": 56,
   "id": "0247616e-e346-4a30-892e-3335863c1fae",
   "metadata": {},
   "outputs": [
    {
     "data": {
      "text/plain": [
       "Maths      21\n",
       "English    23\n",
       "Science    54\n",
       "dtype: int64"
      ]
     },
     "execution_count": 56,
     "metadata": {},
     "output_type": "execute_result"
    }
   ],
   "source": [
    "# Custom index\n",
    "# Considering Subjects as Index\n",
    "marks = [21,23,54]\n",
    "sub = ['Maths', 'English', 'Science']\n",
    "\n",
    "Marks = pd.Series(marks, index=sub)\n",
    "Marks"
   ]
  },
  {
   "cell_type": "code",
   "execution_count": 58,
   "id": "10ecf45e-7b4a-4b55-9515-57e003a03099",
   "metadata": {},
   "outputs": [
    {
     "data": {
      "text/plain": [
       "Maths      21\n",
       "English    23\n",
       "Science    54\n",
       "Name: Exam-Marks, dtype: int64"
      ]
     },
     "execution_count": 58,
     "metadata": {},
     "output_type": "execute_result"
    }
   ],
   "source": [
    "# Setting the Name for the Series <Marks>\n",
    "Marks = pd.Series(marks, index=sub, name='Exam-Marks')\n",
    "Marks"
   ]
  },
  {
   "cell_type": "markdown",
   "id": "18665386-8cae-496e-9e1c-397f28abdb8e",
   "metadata": {},
   "source": [
    "# Series from Dictionary"
   ]
  },
  {
   "cell_type": "code",
   "execution_count": 63,
   "id": "b1f9b87f-b2d6-4d72-a29d-e7b77c669a29",
   "metadata": {},
   "outputs": [
    {
     "data": {
      "text/plain": [
       "Maths      21\n",
       "English    23\n",
       "Science    54\n",
       "Name: Exam-Marks, dtype: int64"
      ]
     },
     "execution_count": 63,
     "metadata": {},
     "output_type": "execute_result"
    }
   ],
   "source": [
    "# Creating Dictionary\n",
    "marks={\n",
    "    'maths' : 45,\n",
    "    'Science' : 65,\n",
    "    'English' : 98\n",
    "}\n",
    "\n",
    "Marks_Series = pd.Series(marks)\n",
    "Marks"
   ]
  },
  {
   "cell_type": "code",
   "execution_count": null,
   "id": "5f9732b8-267e-416a-a6c5-fbfa44d67190",
   "metadata": {},
   "outputs": [],
   "source": []
  }
 ],
 "metadata": {
  "kernelspec": {
   "display_name": "Python [conda env:base] *",
   "language": "python",
   "name": "conda-base-py"
  },
  "language_info": {
   "codemirror_mode": {
    "name": "ipython",
    "version": 3
   },
   "file_extension": ".py",
   "mimetype": "text/x-python",
   "name": "python",
   "nbconvert_exporter": "python",
   "pygments_lexer": "ipython3",
   "version": "3.12.4"
  }
 },
 "nbformat": 4,
 "nbformat_minor": 5
}
