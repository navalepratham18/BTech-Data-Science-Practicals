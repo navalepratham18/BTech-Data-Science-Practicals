{
 "cells": [
  {
   "cell_type": "code",
   "execution_count": 22,
   "id": "bdfd1052-0262-4b77-b4d9-0e30f32bd09d",
   "metadata": {},
   "outputs": [],
   "source": [
    "import pandas as pd\n",
    "path = \"Dataset/sample1.json\""
   ]
  },
  {
   "cell_type": "markdown",
   "id": "44bf7728-ea55-460e-b1f0-ad7f018ad4d1",
   "metadata": {},
   "source": [
    "## Reading JSON file"
   ]
  },
  {
   "cell_type": "code",
   "execution_count": 9,
   "id": "e6a45e4f-416e-4a5f-bebb-234ce8b7238d",
   "metadata": {},
   "outputs": [
    {
     "data": {
      "text/html": [
       "<div>\n",
       "<style scoped>\n",
       "    .dataframe tbody tr th:only-of-type {\n",
       "        vertical-align: middle;\n",
       "    }\n",
       "\n",
       "    .dataframe tbody tr th {\n",
       "        vertical-align: top;\n",
       "    }\n",
       "\n",
       "    .dataframe thead th {\n",
       "        text-align: right;\n",
       "    }\n",
       "</style>\n",
       "<table border=\"1\" class=\"dataframe\">\n",
       "  <thead>\n",
       "    <tr style=\"text-align: right;\">\n",
       "      <th></th>\n",
       "      <th>fear</th>\n",
       "      <th>chest</th>\n",
       "      <th>how</th>\n",
       "      <th>graph</th>\n",
       "      <th>camp</th>\n",
       "      <th>plural</th>\n",
       "    </tr>\n",
       "  </thead>\n",
       "  <tbody>\n",
       "    <tr>\n",
       "      <th>0</th>\n",
       "      <td>quiet</td>\n",
       "      <td>-1477429467</td>\n",
       "      <td>False</td>\n",
       "      <td>False</td>\n",
       "      <td>929234312</td>\n",
       "      <td>settle</td>\n",
       "    </tr>\n",
       "  </tbody>\n",
       "</table>\n",
       "</div>"
      ],
      "text/plain": [
       "    fear       chest    how  graph       camp  plural\n",
       "0  quiet -1477429467  False  False  929234312  settle"
      ]
     },
     "execution_count": 9,
     "metadata": {},
     "output_type": "execute_result"
    }
   ],
   "source": [
    "df = pd.read_json(path)\n",
    "df.head()"
   ]
  },
  {
   "cell_type": "markdown",
   "id": "e9d59085-191e-4186-9dbb-90aa63a1a6b2",
   "metadata": {},
   "source": [
    "## Getting summary"
   ]
  },
  {
   "cell_type": "code",
   "execution_count": 5,
   "id": "ba290b23-8170-4898-a199-07de80a11705",
   "metadata": {},
   "outputs": [
    {
     "data": {
      "text/html": [
       "<div>\n",
       "<style scoped>\n",
       "    .dataframe tbody tr th:only-of-type {\n",
       "        vertical-align: middle;\n",
       "    }\n",
       "\n",
       "    .dataframe tbody tr th {\n",
       "        vertical-align: top;\n",
       "    }\n",
       "\n",
       "    .dataframe thead th {\n",
       "        text-align: right;\n",
       "    }\n",
       "</style>\n",
       "<table border=\"1\" class=\"dataframe\">\n",
       "  <thead>\n",
       "    <tr style=\"text-align: right;\">\n",
       "      <th></th>\n",
       "      <th>chest</th>\n",
       "      <th>camp</th>\n",
       "    </tr>\n",
       "  </thead>\n",
       "  <tbody>\n",
       "    <tr>\n",
       "      <th>count</th>\n",
       "      <td>1.000000e+00</td>\n",
       "      <td>1.0</td>\n",
       "    </tr>\n",
       "    <tr>\n",
       "      <th>mean</th>\n",
       "      <td>-1.477429e+09</td>\n",
       "      <td>929234312.0</td>\n",
       "    </tr>\n",
       "    <tr>\n",
       "      <th>std</th>\n",
       "      <td>NaN</td>\n",
       "      <td>NaN</td>\n",
       "    </tr>\n",
       "    <tr>\n",
       "      <th>min</th>\n",
       "      <td>-1.477429e+09</td>\n",
       "      <td>929234312.0</td>\n",
       "    </tr>\n",
       "    <tr>\n",
       "      <th>25%</th>\n",
       "      <td>-1.477429e+09</td>\n",
       "      <td>929234312.0</td>\n",
       "    </tr>\n",
       "    <tr>\n",
       "      <th>50%</th>\n",
       "      <td>-1.477429e+09</td>\n",
       "      <td>929234312.0</td>\n",
       "    </tr>\n",
       "    <tr>\n",
       "      <th>75%</th>\n",
       "      <td>-1.477429e+09</td>\n",
       "      <td>929234312.0</td>\n",
       "    </tr>\n",
       "    <tr>\n",
       "      <th>max</th>\n",
       "      <td>-1.477429e+09</td>\n",
       "      <td>929234312.0</td>\n",
       "    </tr>\n",
       "  </tbody>\n",
       "</table>\n",
       "</div>"
      ],
      "text/plain": [
       "              chest         camp\n",
       "count  1.000000e+00          1.0\n",
       "mean  -1.477429e+09  929234312.0\n",
       "std             NaN          NaN\n",
       "min   -1.477429e+09  929234312.0\n",
       "25%   -1.477429e+09  929234312.0\n",
       "50%   -1.477429e+09  929234312.0\n",
       "75%   -1.477429e+09  929234312.0\n",
       "max   -1.477429e+09  929234312.0"
      ]
     },
     "execution_count": 5,
     "metadata": {},
     "output_type": "execute_result"
    }
   ],
   "source": [
    "df.describe()"
   ]
  },
  {
   "cell_type": "markdown",
   "id": "9c601c42-b600-464f-9266-0e75ea62317f",
   "metadata": {},
   "source": [
    "## Info of the DataSet"
   ]
  },
  {
   "cell_type": "code",
   "execution_count": 6,
   "id": "d28cb927-8000-49a8-b2c8-c142450fd12f",
   "metadata": {},
   "outputs": [
    {
     "name": "stdout",
     "output_type": "stream",
     "text": [
      "<class 'pandas.core.frame.DataFrame'>\n",
      "RangeIndex: 1 entries, 0 to 0\n",
      "Data columns (total 6 columns):\n",
      " #   Column  Non-Null Count  Dtype \n",
      "---  ------  --------------  ----- \n",
      " 0   fear    1 non-null      object\n",
      " 1   chest   1 non-null      int64 \n",
      " 2   how     1 non-null      bool  \n",
      " 3   graph   1 non-null      bool  \n",
      " 4   camp    1 non-null      int64 \n",
      " 5   plural  1 non-null      object\n",
      "dtypes: bool(2), int64(2), object(2)\n",
      "memory usage: 166.0+ bytes\n"
     ]
    }
   ],
   "source": [
    "df.info()"
   ]
  },
  {
   "cell_type": "markdown",
   "id": "495cef62-bbce-4e76-b413-7de9f8310ccf",
   "metadata": {},
   "source": [
    "## Shape of DataSet"
   ]
  },
  {
   "cell_type": "code",
   "execution_count": 8,
   "id": "69360888-f20c-4aca-aa30-35661d7b1bc5",
   "metadata": {},
   "outputs": [
    {
     "data": {
      "text/plain": [
       "(1, 6)"
      ]
     },
     "execution_count": 8,
     "metadata": {},
     "output_type": "execute_result"
    }
   ],
   "source": [
    "df.shape"
   ]
  },
  {
   "cell_type": "markdown",
   "id": "5e9d68f3-4f95-4041-998d-b3edb30060b3",
   "metadata": {},
   "source": [
    "## Datatype of Particular column"
   ]
  },
  {
   "cell_type": "code",
   "execution_count": 10,
   "id": "7fcbdc7c-d525-4bb4-b402-af001323a24f",
   "metadata": {},
   "outputs": [
    {
     "data": {
      "text/plain": [
       "dtype('int64')"
      ]
     },
     "execution_count": 10,
     "metadata": {},
     "output_type": "execute_result"
    }
   ],
   "source": [
    "df['chest'].dtype"
   ]
  },
  {
   "cell_type": "markdown",
   "id": "3d289a2e-3bf7-42fd-a3b4-06136a3474e7",
   "metadata": {},
   "source": [
    "## Getting the sample data"
   ]
  },
  {
   "cell_type": "code",
   "execution_count": 11,
   "id": "c9f77571-8c03-43f3-a537-ed6516f7d890",
   "metadata": {},
   "outputs": [
    {
     "data": {
      "text/html": [
       "<div>\n",
       "<style scoped>\n",
       "    .dataframe tbody tr th:only-of-type {\n",
       "        vertical-align: middle;\n",
       "    }\n",
       "\n",
       "    .dataframe tbody tr th {\n",
       "        vertical-align: top;\n",
       "    }\n",
       "\n",
       "    .dataframe thead th {\n",
       "        text-align: right;\n",
       "    }\n",
       "</style>\n",
       "<table border=\"1\" class=\"dataframe\">\n",
       "  <thead>\n",
       "    <tr style=\"text-align: right;\">\n",
       "      <th></th>\n",
       "      <th>fear</th>\n",
       "      <th>chest</th>\n",
       "      <th>how</th>\n",
       "      <th>graph</th>\n",
       "      <th>camp</th>\n",
       "      <th>plural</th>\n",
       "    </tr>\n",
       "  </thead>\n",
       "  <tbody>\n",
       "    <tr>\n",
       "      <th>0</th>\n",
       "      <td>quiet</td>\n",
       "      <td>-1477429467</td>\n",
       "      <td>False</td>\n",
       "      <td>False</td>\n",
       "      <td>929234312</td>\n",
       "      <td>settle</td>\n",
       "    </tr>\n",
       "  </tbody>\n",
       "</table>\n",
       "</div>"
      ],
      "text/plain": [
       "    fear       chest    how  graph       camp  plural\n",
       "0  quiet -1477429467  False  False  929234312  settle"
      ]
     },
     "execution_count": 11,
     "metadata": {},
     "output_type": "execute_result"
    }
   ],
   "source": [
    "df.sample()"
   ]
  },
  {
   "cell_type": "markdown",
   "id": "e3e7b9a4-15d6-434d-a9d9-905b1e269c60",
   "metadata": {},
   "source": [
    "# Dataset of JSON file 2"
   ]
  },
  {
   "cell_type": "code",
   "execution_count": 23,
   "id": "8d034908-6515-4dbc-8e9f-c80714717450",
   "metadata": {},
   "outputs": [
    {
     "data": {
      "text/html": [
       "<div>\n",
       "<style scoped>\n",
       "    .dataframe tbody tr th:only-of-type {\n",
       "        vertical-align: middle;\n",
       "    }\n",
       "\n",
       "    .dataframe tbody tr th {\n",
       "        vertical-align: top;\n",
       "    }\n",
       "\n",
       "    .dataframe thead th {\n",
       "        text-align: right;\n",
       "    }\n",
       "</style>\n",
       "<table border=\"1\" class=\"dataframe\">\n",
       "  <thead>\n",
       "    <tr style=\"text-align: right;\">\n",
       "      <th></th>\n",
       "      <th>PassengerId</th>\n",
       "      <th>Survived</th>\n",
       "      <th>Pclass</th>\n",
       "      <th>Name</th>\n",
       "      <th>Sex</th>\n",
       "      <th>Age</th>\n",
       "      <th>SibSp</th>\n",
       "      <th>Parch</th>\n",
       "      <th>Ticket</th>\n",
       "      <th>Fare</th>\n",
       "      <th>Cabin</th>\n",
       "      <th>Embarked</th>\n",
       "    </tr>\n",
       "  </thead>\n",
       "  <tbody>\n",
       "    <tr>\n",
       "      <th>0</th>\n",
       "      <td>1</td>\n",
       "      <td>0</td>\n",
       "      <td>3</td>\n",
       "      <td>Braund, Mr. Owen Harris</td>\n",
       "      <td>male</td>\n",
       "      <td>22.0</td>\n",
       "      <td>1</td>\n",
       "      <td>0</td>\n",
       "      <td>A/5 21171</td>\n",
       "      <td>7.2500</td>\n",
       "      <td>None</td>\n",
       "      <td>S</td>\n",
       "    </tr>\n",
       "    <tr>\n",
       "      <th>1</th>\n",
       "      <td>2</td>\n",
       "      <td>1</td>\n",
       "      <td>1</td>\n",
       "      <td>Cumings, Mrs. John Bradley (Florence Briggs Th...</td>\n",
       "      <td>female</td>\n",
       "      <td>38.0</td>\n",
       "      <td>1</td>\n",
       "      <td>0</td>\n",
       "      <td>PC 17599</td>\n",
       "      <td>71.2833</td>\n",
       "      <td>C85</td>\n",
       "      <td>C</td>\n",
       "    </tr>\n",
       "    <tr>\n",
       "      <th>2</th>\n",
       "      <td>3</td>\n",
       "      <td>1</td>\n",
       "      <td>3</td>\n",
       "      <td>Heikkinen, Miss. Laina</td>\n",
       "      <td>female</td>\n",
       "      <td>26.0</td>\n",
       "      <td>0</td>\n",
       "      <td>0</td>\n",
       "      <td>STON/O2. 3101282</td>\n",
       "      <td>7.9250</td>\n",
       "      <td>None</td>\n",
       "      <td>S</td>\n",
       "    </tr>\n",
       "    <tr>\n",
       "      <th>3</th>\n",
       "      <td>4</td>\n",
       "      <td>1</td>\n",
       "      <td>1</td>\n",
       "      <td>Futrelle, Mrs. Jacques Heath (Lily May Peel)</td>\n",
       "      <td>female</td>\n",
       "      <td>35.0</td>\n",
       "      <td>1</td>\n",
       "      <td>0</td>\n",
       "      <td>113803</td>\n",
       "      <td>53.1000</td>\n",
       "      <td>C123</td>\n",
       "      <td>S</td>\n",
       "    </tr>\n",
       "    <tr>\n",
       "      <th>4</th>\n",
       "      <td>5</td>\n",
       "      <td>0</td>\n",
       "      <td>3</td>\n",
       "      <td>Allen, Mr. William Henry</td>\n",
       "      <td>male</td>\n",
       "      <td>35.0</td>\n",
       "      <td>0</td>\n",
       "      <td>0</td>\n",
       "      <td>373450</td>\n",
       "      <td>8.0500</td>\n",
       "      <td>None</td>\n",
       "      <td>S</td>\n",
       "    </tr>\n",
       "  </tbody>\n",
       "</table>\n",
       "</div>"
      ],
      "text/plain": [
       "   PassengerId  Survived  Pclass  \\\n",
       "0            1         0       3   \n",
       "1            2         1       1   \n",
       "2            3         1       3   \n",
       "3            4         1       1   \n",
       "4            5         0       3   \n",
       "\n",
       "                                                Name     Sex   Age  SibSp  \\\n",
       "0                            Braund, Mr. Owen Harris    male  22.0      1   \n",
       "1  Cumings, Mrs. John Bradley (Florence Briggs Th...  female  38.0      1   \n",
       "2                             Heikkinen, Miss. Laina  female  26.0      0   \n",
       "3       Futrelle, Mrs. Jacques Heath (Lily May Peel)  female  35.0      1   \n",
       "4                           Allen, Mr. William Henry    male  35.0      0   \n",
       "\n",
       "   Parch            Ticket     Fare Cabin Embarked  \n",
       "0      0         A/5 21171   7.2500  None        S  \n",
       "1      0          PC 17599  71.2833   C85        C  \n",
       "2      0  STON/O2. 3101282   7.9250  None        S  \n",
       "3      0            113803  53.1000  C123        S  \n",
       "4      0            373450   8.0500  None        S  "
      ]
     },
     "execution_count": 23,
     "metadata": {},
     "output_type": "execute_result"
    }
   ],
   "source": [
    "path2 = \"Dataset/titanic-parquet.json\"\n",
    "df2 = pd.read_json(path2, lines=True)\n",
    "df2.head()"
   ]
  },
  {
   "cell_type": "markdown",
   "id": "3a53647f-3363-4e89-8393-faffc19d86f6",
   "metadata": {},
   "source": [
    "## DESCRIBE()"
   ]
  },
  {
   "cell_type": "code",
   "execution_count": 24,
   "id": "70142a71-5185-4285-b478-d457d70716ad",
   "metadata": {},
   "outputs": [
    {
     "data": {
      "text/html": [
       "<div>\n",
       "<style scoped>\n",
       "    .dataframe tbody tr th:only-of-type {\n",
       "        vertical-align: middle;\n",
       "    }\n",
       "\n",
       "    .dataframe tbody tr th {\n",
       "        vertical-align: top;\n",
       "    }\n",
       "\n",
       "    .dataframe thead th {\n",
       "        text-align: right;\n",
       "    }\n",
       "</style>\n",
       "<table border=\"1\" class=\"dataframe\">\n",
       "  <thead>\n",
       "    <tr style=\"text-align: right;\">\n",
       "      <th></th>\n",
       "      <th>PassengerId</th>\n",
       "      <th>Survived</th>\n",
       "      <th>Pclass</th>\n",
       "      <th>Age</th>\n",
       "      <th>SibSp</th>\n",
       "      <th>Parch</th>\n",
       "      <th>Fare</th>\n",
       "    </tr>\n",
       "  </thead>\n",
       "  <tbody>\n",
       "    <tr>\n",
       "      <th>count</th>\n",
       "      <td>891.000000</td>\n",
       "      <td>891.000000</td>\n",
       "      <td>891.000000</td>\n",
       "      <td>714.000000</td>\n",
       "      <td>891.000000</td>\n",
       "      <td>891.000000</td>\n",
       "      <td>891.000000</td>\n",
       "    </tr>\n",
       "    <tr>\n",
       "      <th>mean</th>\n",
       "      <td>446.000000</td>\n",
       "      <td>0.383838</td>\n",
       "      <td>2.308642</td>\n",
       "      <td>29.699118</td>\n",
       "      <td>0.523008</td>\n",
       "      <td>0.381594</td>\n",
       "      <td>32.204208</td>\n",
       "    </tr>\n",
       "    <tr>\n",
       "      <th>std</th>\n",
       "      <td>257.353842</td>\n",
       "      <td>0.486592</td>\n",
       "      <td>0.836071</td>\n",
       "      <td>14.526497</td>\n",
       "      <td>1.102743</td>\n",
       "      <td>0.806057</td>\n",
       "      <td>49.693429</td>\n",
       "    </tr>\n",
       "    <tr>\n",
       "      <th>min</th>\n",
       "      <td>1.000000</td>\n",
       "      <td>0.000000</td>\n",
       "      <td>1.000000</td>\n",
       "      <td>0.420000</td>\n",
       "      <td>0.000000</td>\n",
       "      <td>0.000000</td>\n",
       "      <td>0.000000</td>\n",
       "    </tr>\n",
       "    <tr>\n",
       "      <th>25%</th>\n",
       "      <td>223.500000</td>\n",
       "      <td>0.000000</td>\n",
       "      <td>2.000000</td>\n",
       "      <td>20.125000</td>\n",
       "      <td>0.000000</td>\n",
       "      <td>0.000000</td>\n",
       "      <td>7.910400</td>\n",
       "    </tr>\n",
       "    <tr>\n",
       "      <th>50%</th>\n",
       "      <td>446.000000</td>\n",
       "      <td>0.000000</td>\n",
       "      <td>3.000000</td>\n",
       "      <td>28.000000</td>\n",
       "      <td>0.000000</td>\n",
       "      <td>0.000000</td>\n",
       "      <td>14.454200</td>\n",
       "    </tr>\n",
       "    <tr>\n",
       "      <th>75%</th>\n",
       "      <td>668.500000</td>\n",
       "      <td>1.000000</td>\n",
       "      <td>3.000000</td>\n",
       "      <td>38.000000</td>\n",
       "      <td>1.000000</td>\n",
       "      <td>0.000000</td>\n",
       "      <td>31.000000</td>\n",
       "    </tr>\n",
       "    <tr>\n",
       "      <th>max</th>\n",
       "      <td>891.000000</td>\n",
       "      <td>1.000000</td>\n",
       "      <td>3.000000</td>\n",
       "      <td>80.000000</td>\n",
       "      <td>8.000000</td>\n",
       "      <td>6.000000</td>\n",
       "      <td>512.329200</td>\n",
       "    </tr>\n",
       "  </tbody>\n",
       "</table>\n",
       "</div>"
      ],
      "text/plain": [
       "       PassengerId    Survived      Pclass         Age       SibSp  \\\n",
       "count   891.000000  891.000000  891.000000  714.000000  891.000000   \n",
       "mean    446.000000    0.383838    2.308642   29.699118    0.523008   \n",
       "std     257.353842    0.486592    0.836071   14.526497    1.102743   \n",
       "min       1.000000    0.000000    1.000000    0.420000    0.000000   \n",
       "25%     223.500000    0.000000    2.000000   20.125000    0.000000   \n",
       "50%     446.000000    0.000000    3.000000   28.000000    0.000000   \n",
       "75%     668.500000    1.000000    3.000000   38.000000    1.000000   \n",
       "max     891.000000    1.000000    3.000000   80.000000    8.000000   \n",
       "\n",
       "            Parch        Fare  \n",
       "count  891.000000  891.000000  \n",
       "mean     0.381594   32.204208  \n",
       "std      0.806057   49.693429  \n",
       "min      0.000000    0.000000  \n",
       "25%      0.000000    7.910400  \n",
       "50%      0.000000   14.454200  \n",
       "75%      0.000000   31.000000  \n",
       "max      6.000000  512.329200  "
      ]
     },
     "execution_count": 24,
     "metadata": {},
     "output_type": "execute_result"
    }
   ],
   "source": [
    "df2.describe()"
   ]
  },
  {
   "cell_type": "markdown",
   "id": "bfad8569-546e-4cd5-b549-46aad8882e40",
   "metadata": {},
   "source": [
    "## Info()"
   ]
  },
  {
   "cell_type": "code",
   "execution_count": 28,
   "id": "29382835-191c-430b-9b78-e765b6ffcbda",
   "metadata": {},
   "outputs": [
    {
     "name": "stdout",
     "output_type": "stream",
     "text": [
      "<class 'pandas.core.frame.DataFrame'>\n",
      "RangeIndex: 891 entries, 0 to 890\n",
      "Data columns (total 12 columns):\n",
      " #   Column       Non-Null Count  Dtype  \n",
      "---  ------       --------------  -----  \n",
      " 0   PassengerId  891 non-null    int64  \n",
      " 1   Survived     891 non-null    int64  \n",
      " 2   Pclass       891 non-null    int64  \n",
      " 3   Name         891 non-null    object \n",
      " 4   Sex          891 non-null    object \n",
      " 5   Age          714 non-null    float64\n",
      " 6   SibSp        891 non-null    int64  \n",
      " 7   Parch        891 non-null    int64  \n",
      " 8   Ticket       891 non-null    object \n",
      " 9   Fare         891 non-null    float64\n",
      " 10  Cabin        204 non-null    object \n",
      " 11  Embarked     889 non-null    object \n",
      "dtypes: float64(2), int64(5), object(5)\n",
      "memory usage: 83.7+ KB\n"
     ]
    }
   ],
   "source": [
    "df2.info()"
   ]
  },
  {
   "cell_type": "markdown",
   "id": "aa40a63e-8c5a-405d-9035-9f3d1a8d8e7d",
   "metadata": {},
   "source": [
    "## shape()"
   ]
  },
  {
   "cell_type": "code",
   "execution_count": 27,
   "id": "1feefff6-fced-47e3-be21-f7ec14f029b6",
   "metadata": {},
   "outputs": [
    {
     "data": {
      "text/plain": [
       "(891, 12)"
      ]
     },
     "execution_count": 27,
     "metadata": {},
     "output_type": "execute_result"
    }
   ],
   "source": [
    "df2.shape"
   ]
  },
  {
   "cell_type": "markdown",
   "id": "e0c168bc-b8a1-4ea8-80cc-21b0fd1aa7fa",
   "metadata": {},
   "source": [
    "## Datatypes in dataset"
   ]
  },
  {
   "cell_type": "code",
   "execution_count": 31,
   "id": "118d3c5b-b544-49dd-bcc1-88c5c3d06deb",
   "metadata": {},
   "outputs": [
    {
     "data": {
      "text/plain": [
       "dtype('O')"
      ]
     },
     "execution_count": 31,
     "metadata": {},
     "output_type": "execute_result"
    }
   ],
   "source": [
    "df2['Name'].dtype"
   ]
  },
  {
   "cell_type": "markdown",
   "id": "4d41733e-2fd8-4067-a681-4dd08d830874",
   "metadata": {},
   "source": [
    "# Reading .html file"
   ]
  },
  {
   "cell_type": "code",
   "execution_count": 36,
   "id": "13eea6ff-ad18-4cff-b27f-f1154b1fd8f3",
   "metadata": {},
   "outputs": [
    {
     "data": {
      "text/html": [
       "<div>\n",
       "<style scoped>\n",
       "    .dataframe tbody tr th:only-of-type {\n",
       "        vertical-align: middle;\n",
       "    }\n",
       "\n",
       "    .dataframe tbody tr th {\n",
       "        vertical-align: top;\n",
       "    }\n",
       "\n",
       "    .dataframe thead th {\n",
       "        text-align: right;\n",
       "    }\n",
       "</style>\n",
       "<table border=\"1\" class=\"dataframe\">\n",
       "  <thead>\n",
       "    <tr style=\"text-align: right;\">\n",
       "      <th></th>\n",
       "      <th>FL_DATE</th>\n",
       "      <th>DEP_DELAY</th>\n",
       "      <th>ARR_DELAY</th>\n",
       "      <th>AIR_TIME</th>\n",
       "      <th>DISTANCE</th>\n",
       "      <th>DEP_TIME</th>\n",
       "      <th>ARR_TIME</th>\n",
       "    </tr>\n",
       "  </thead>\n",
       "  <tbody>\n",
       "    <tr>\n",
       "      <th>0</th>\n",
       "      <td>2006-01-01</td>\n",
       "      <td>5</td>\n",
       "      <td>19</td>\n",
       "      <td>350</td>\n",
       "      <td>2475</td>\n",
       "      <td>9.083333</td>\n",
       "      <td>12.483334</td>\n",
       "    </tr>\n",
       "    <tr>\n",
       "      <th>1</th>\n",
       "      <td>2006-01-02</td>\n",
       "      <td>167</td>\n",
       "      <td>216</td>\n",
       "      <td>343</td>\n",
       "      <td>2475</td>\n",
       "      <td>11.783334</td>\n",
       "      <td>15.766666</td>\n",
       "    </tr>\n",
       "    <tr>\n",
       "      <th>2</th>\n",
       "      <td>2006-01-03</td>\n",
       "      <td>-7</td>\n",
       "      <td>-2</td>\n",
       "      <td>344</td>\n",
       "      <td>2475</td>\n",
       "      <td>8.883333</td>\n",
       "      <td>12.133333</td>\n",
       "    </tr>\n",
       "    <tr>\n",
       "      <th>3</th>\n",
       "      <td>2006-01-04</td>\n",
       "      <td>-5</td>\n",
       "      <td>-13</td>\n",
       "      <td>331</td>\n",
       "      <td>2475</td>\n",
       "      <td>8.916667</td>\n",
       "      <td>11.950000</td>\n",
       "    </tr>\n",
       "    <tr>\n",
       "      <th>4</th>\n",
       "      <td>2006-01-05</td>\n",
       "      <td>-3</td>\n",
       "      <td>-17</td>\n",
       "      <td>321</td>\n",
       "      <td>2475</td>\n",
       "      <td>8.950000</td>\n",
       "      <td>11.883333</td>\n",
       "    </tr>\n",
       "  </tbody>\n",
       "</table>\n",
       "</div>"
      ],
      "text/plain": [
       "      FL_DATE  DEP_DELAY  ARR_DELAY  AIR_TIME  DISTANCE   DEP_TIME   ARR_TIME\n",
       "0  2006-01-01          5         19       350      2475   9.083333  12.483334\n",
       "1  2006-01-02        167        216       343      2475  11.783334  15.766666\n",
       "2  2006-01-03         -7         -2       344      2475   8.883333  12.133333\n",
       "3  2006-01-04         -5        -13       331      2475   8.916667  11.950000\n",
       "4  2006-01-05         -3        -17       321      2475   8.950000  11.883333"
      ]
     },
     "execution_count": 36,
     "metadata": {},
     "output_type": "execute_result"
    }
   ],
   "source": [
    "path3 = 'Dataset/flights-1m-parquet.json'\n",
    "df3 = pd.read_json(path3, lines=True)\n",
    "df3.head()"
   ]
  },
  {
   "cell_type": "markdown",
   "id": "2811d3b6-4559-46a3-a154-8087688b0730",
   "metadata": {},
   "source": [
    "## describe()"
   ]
  },
  {
   "cell_type": "code",
   "execution_count": 37,
   "id": "3392d49e-e4e6-4af7-bee0-e85c1ceec3c3",
   "metadata": {},
   "outputs": [
    {
     "data": {
      "text/html": [
       "<div>\n",
       "<style scoped>\n",
       "    .dataframe tbody tr th:only-of-type {\n",
       "        vertical-align: middle;\n",
       "    }\n",
       "\n",
       "    .dataframe tbody tr th {\n",
       "        vertical-align: top;\n",
       "    }\n",
       "\n",
       "    .dataframe thead th {\n",
       "        text-align: right;\n",
       "    }\n",
       "</style>\n",
       "<table border=\"1\" class=\"dataframe\">\n",
       "  <thead>\n",
       "    <tr style=\"text-align: right;\">\n",
       "      <th></th>\n",
       "      <th>DEP_DELAY</th>\n",
       "      <th>ARR_DELAY</th>\n",
       "      <th>AIR_TIME</th>\n",
       "      <th>DISTANCE</th>\n",
       "      <th>DEP_TIME</th>\n",
       "      <th>ARR_TIME</th>\n",
       "    </tr>\n",
       "  </thead>\n",
       "  <tbody>\n",
       "    <tr>\n",
       "      <th>count</th>\n",
       "      <td>1000000.000000</td>\n",
       "      <td>1000000.000000</td>\n",
       "      <td>1000000.00000</td>\n",
       "      <td>1000000.000000</td>\n",
       "      <td>1000000.000000</td>\n",
       "      <td>1000000.000000</td>\n",
       "    </tr>\n",
       "    <tr>\n",
       "      <th>mean</th>\n",
       "      <td>8.651135</td>\n",
       "      <td>6.400658</td>\n",
       "      <td>105.81399</td>\n",
       "      <td>741.258545</td>\n",
       "      <td>13.621958</td>\n",
       "      <td>15.134593</td>\n",
       "    </tr>\n",
       "    <tr>\n",
       "      <th>std</th>\n",
       "      <td>31.167477</td>\n",
       "      <td>33.939187</td>\n",
       "      <td>69.33634</td>\n",
       "      <td>573.779372</td>\n",
       "      <td>4.737427</td>\n",
       "      <td>4.966053</td>\n",
       "    </tr>\n",
       "    <tr>\n",
       "      <th>min</th>\n",
       "      <td>-1197.000000</td>\n",
       "      <td>-197.000000</td>\n",
       "      <td>-2.00000</td>\n",
       "      <td>30.000000</td>\n",
       "      <td>0.000000</td>\n",
       "      <td>0.000000</td>\n",
       "    </tr>\n",
       "    <tr>\n",
       "      <th>25%</th>\n",
       "      <td>-4.000000</td>\n",
       "      <td>-10.000000</td>\n",
       "      <td>55.00000</td>\n",
       "      <td>325.000000</td>\n",
       "      <td>9.583333</td>\n",
       "      <td>11.283334</td>\n",
       "    </tr>\n",
       "    <tr>\n",
       "      <th>50%</th>\n",
       "      <td>0.000000</td>\n",
       "      <td>-2.000000</td>\n",
       "      <td>87.00000</td>\n",
       "      <td>589.000000</td>\n",
       "      <td>13.583333</td>\n",
       "      <td>15.383333</td>\n",
       "    </tr>\n",
       "    <tr>\n",
       "      <th>75%</th>\n",
       "      <td>8.000000</td>\n",
       "      <td>11.000000</td>\n",
       "      <td>136.00000</td>\n",
       "      <td>984.000000</td>\n",
       "      <td>17.500000</td>\n",
       "      <td>19.233334</td>\n",
       "    </tr>\n",
       "    <tr>\n",
       "      <th>max</th>\n",
       "      <td>1379.000000</td>\n",
       "      <td>1374.000000</td>\n",
       "      <td>877.00000</td>\n",
       "      <td>4962.000000</td>\n",
       "      <td>23.983334</td>\n",
       "      <td>23.983334</td>\n",
       "    </tr>\n",
       "  </tbody>\n",
       "</table>\n",
       "</div>"
      ],
      "text/plain": [
       "            DEP_DELAY       ARR_DELAY       AIR_TIME        DISTANCE  \\\n",
       "count  1000000.000000  1000000.000000  1000000.00000  1000000.000000   \n",
       "mean         8.651135        6.400658      105.81399      741.258545   \n",
       "std         31.167477       33.939187       69.33634      573.779372   \n",
       "min      -1197.000000     -197.000000       -2.00000       30.000000   \n",
       "25%         -4.000000      -10.000000       55.00000      325.000000   \n",
       "50%          0.000000       -2.000000       87.00000      589.000000   \n",
       "75%          8.000000       11.000000      136.00000      984.000000   \n",
       "max       1379.000000     1374.000000      877.00000     4962.000000   \n",
       "\n",
       "             DEP_TIME        ARR_TIME  \n",
       "count  1000000.000000  1000000.000000  \n",
       "mean        13.621958       15.134593  \n",
       "std          4.737427        4.966053  \n",
       "min          0.000000        0.000000  \n",
       "25%          9.583333       11.283334  \n",
       "50%         13.583333       15.383333  \n",
       "75%         17.500000       19.233334  \n",
       "max         23.983334       23.983334  "
      ]
     },
     "execution_count": 37,
     "metadata": {},
     "output_type": "execute_result"
    }
   ],
   "source": [
    "df3.describe()"
   ]
  },
  {
   "cell_type": "code",
   "execution_count": 38,
   "id": "0809ca14-266a-4cf8-9ca2-4086acdad864",
   "metadata": {},
   "outputs": [
    {
     "name": "stdout",
     "output_type": "stream",
     "text": [
      "<class 'pandas.core.frame.DataFrame'>\n",
      "RangeIndex: 1000000 entries, 0 to 999999\n",
      "Data columns (total 7 columns):\n",
      " #   Column     Non-Null Count    Dtype  \n",
      "---  ------     --------------    -----  \n",
      " 0   FL_DATE    1000000 non-null  object \n",
      " 1   DEP_DELAY  1000000 non-null  int64  \n",
      " 2   ARR_DELAY  1000000 non-null  int64  \n",
      " 3   AIR_TIME   1000000 non-null  int64  \n",
      " 4   DISTANCE   1000000 non-null  int64  \n",
      " 5   DEP_TIME   1000000 non-null  float64\n",
      " 6   ARR_TIME   1000000 non-null  float64\n",
      "dtypes: float64(2), int64(4), object(1)\n",
      "memory usage: 53.4+ MB\n"
     ]
    }
   ],
   "source": [
    "df3.info()"
   ]
  },
  {
   "cell_type": "code",
   "execution_count": 40,
   "id": "eec024c0-f38c-4662-9c9c-f6131aa44eca",
   "metadata": {},
   "outputs": [
    {
     "data": {
      "text/plain": [
       "(1000000, 7)"
      ]
     },
     "execution_count": 40,
     "metadata": {},
     "output_type": "execute_result"
    }
   ],
   "source": [
    "df3.shape"
   ]
  },
  {
   "cell_type": "markdown",
   "id": "e6c83967-bb1f-414b-83a7-fc226bad8719",
   "metadata": {},
   "source": [
    "# importing api"
   ]
  },
  {
   "cell_type": "code",
   "execution_count": 42,
   "id": "b5b57727-aea7-4384-9087-cc91da6a5b43",
   "metadata": {},
   "outputs": [],
   "source": [
    "import requests as rq"
   ]
  },
  {
   "cell_type": "code",
   "execution_count": 73,
   "id": "44029c6d-576c-4568-a749-eee7bdb00d7b",
   "metadata": {},
   "outputs": [
    {
     "data": {
      "text/plain": [
       "[{'id': 1,\n",
       "  'name': 'Kub - Stehr',\n",
       "  'address': '6061 Railway Street',\n",
       "  'zip': '43727',\n",
       "  'country': 'India',\n",
       "  'employeeCount': 9098,\n",
       "  'industry': 'Technology',\n",
       "  'marketCap': 231971533,\n",
       "  'domain': 'sniveling-impact.biz',\n",
       "  'logo': 'https://example.com/logo1.png',\n",
       "  'ceoName': 'Uriel Tromp'},\n",
       " {'id': 2,\n",
       "  'name': 'Thompson, Schmeler and Bosco',\n",
       "  'address': '57693 Feest Parkway',\n",
       "  'zip': '15415',\n",
       "  'country': 'American Samoa',\n",
       "  'employeeCount': 7130,\n",
       "  'industry': 'Technology',\n",
       "  'marketCap': 836070065,\n",
       "  'domain': 'neat-kettledrum.name',\n",
       "  'logo': 'https://example.com/logo1.png',\n",
       "  'ceoName': 'Rossie Bergstrom'},\n",
       " {'id': 3,\n",
       "  'name': 'Jacobs - Casper',\n",
       "  'address': '5105 West Avenue',\n",
       "  'zip': '72705',\n",
       "  'country': 'Aland Islands',\n",
       "  'employeeCount': 7851,\n",
       "  'industry': 'Technology',\n",
       "  'marketCap': 9779427658,\n",
       "  'domain': 'pale-ecliptic.biz',\n",
       "  'logo': 'https://example.com/logo1.png',\n",
       "  'ceoName': 'Carissa Mann'},\n",
       " {'id': 4,\n",
       "  'name': 'Leffler Inc',\n",
       "  'address': '48155 Mike Ramp',\n",
       "  'zip': '94429',\n",
       "  'country': 'Central African Republic',\n",
       "  'employeeCount': 8824,\n",
       "  'industry': 'Technology',\n",
       "  'marketCap': 9265520948,\n",
       "  'domain': 'pushy-daddy.org',\n",
       "  'logo': 'https://example.com/logo1.png',\n",
       "  'ceoName': 'Kareem Walsh'},\n",
       " {'id': 4,\n",
       "  'name': 'Schinner - Hyatt',\n",
       "  'address': '572 Bartell Prairie',\n",
       "  'zip': '85189-9504',\n",
       "  'country': 'Marshall Islands',\n",
       "  'employeeCount': 2661,\n",
       "  'industry': 'Technology',\n",
       "  'marketCap': 4192751331,\n",
       "  'domain': 'wicked-cop-out.biz',\n",
       "  'logo': 'https://example.com/logo1.png',\n",
       "  'ceoName': 'Easter Leffler'},\n",
       " {'id': 5,\n",
       "  'name': 'Beatty, Lind and Pollich',\n",
       "  'address': '254 Murray Corners',\n",
       "  'zip': '69947-6684',\n",
       "  'country': 'Armenia',\n",
       "  'employeeCount': 4972,\n",
       "  'industry': 'Technology',\n",
       "  'marketCap': 2540771181,\n",
       "  'domain': 'young-dish.biz',\n",
       "  'logo': 'https://example.com/logo1.png',\n",
       "  'ceoName': 'Deven Nitzsche'},\n",
       " {'id': 6,\n",
       "  'name': 'Jacobson Inc',\n",
       "  'address': '766 Nash Mission',\n",
       "  'zip': '90757-5142',\n",
       "  'country': 'Micronesia',\n",
       "  'employeeCount': 7350,\n",
       "  'industry': 'Technology',\n",
       "  'marketCap': 8168817123,\n",
       "  'domain': 'married-minion.com',\n",
       "  'logo': 'https://example.com/logo1.png',\n",
       "  'ceoName': 'Shayna Swaniawski'},\n",
       " {'id': 7,\n",
       "  'name': 'Moore, Wintheiser and Turner',\n",
       "  'address': '40826 State Avenue',\n",
       "  'zip': '96154-0289',\n",
       "  'country': 'Botswana',\n",
       "  'employeeCount': 871,\n",
       "  'industry': 'Technology',\n",
       "  'marketCap': 5918927461,\n",
       "  'domain': 'scared-breastplate.info',\n",
       "  'logo': 'https://example.com/logo1.png',\n",
       "  'ceoName': 'Demarcus Armstrong'},\n",
       " {'id': 8,\n",
       "  'name': 'Gleichner, Miller and Gislason',\n",
       "  'address': '9826 Woodlands',\n",
       "  'zip': '44157',\n",
       "  'country': 'Niger',\n",
       "  'employeeCount': 3614,\n",
       "  'industry': 'Technology',\n",
       "  'marketCap': 8619915771,\n",
       "  'domain': 'normal-bracelet.biz',\n",
       "  'logo': 'https://example.com/logo1.png',\n",
       "  'ceoName': 'Amie O&#x27;Keefe'},\n",
       " {'id': 9,\n",
       "  'name': 'Hermiston LLC',\n",
       "  'address': '4471 Joesph Points',\n",
       "  'zip': '26684',\n",
       "  'country': 'Russian Federation',\n",
       "  'employeeCount': 8709,\n",
       "  'industry': 'Technology',\n",
       "  'marketCap': 2784888711,\n",
       "  'domain': 'grumpy-pearl.biz',\n",
       "  'logo': 'https://example.com/logo1.png',\n",
       "  'ceoName': 'Mackenzie Stoltenberg'},\n",
       " {'id': 10,\n",
       "  'name': 'Kihn and Sons',\n",
       "  'address': '373 Tudor Close',\n",
       "  'zip': '72765',\n",
       "  'country': 'Mozambique',\n",
       "  'employeeCount': 4413,\n",
       "  'industry': 'Technology',\n",
       "  'marketCap': 7128960861,\n",
       "  'domain': 'aware-markup.biz',\n",
       "  'logo': 'https://example.com/logo1.png',\n",
       "  'ceoName': 'Kacie Kemmer'}]"
      ]
     },
     "execution_count": 73,
     "metadata": {},
     "output_type": "execute_result"
    }
   ],
   "source": [
    "data = rq.get(\"https://fake-json-api.mock.beeceptor.com/companies\")\n",
    "data.json()"
   ]
  },
  {
   "cell_type": "code",
   "execution_count": 65,
   "id": "23043548-b4cd-4893-83dd-4fa7d7db9602",
   "metadata": {},
   "outputs": [
    {
     "data": {
      "text/html": [
       "<div>\n",
       "<style scoped>\n",
       "    .dataframe tbody tr th:only-of-type {\n",
       "        vertical-align: middle;\n",
       "    }\n",
       "\n",
       "    .dataframe tbody tr th {\n",
       "        vertical-align: top;\n",
       "    }\n",
       "\n",
       "    .dataframe thead th {\n",
       "        text-align: right;\n",
       "    }\n",
       "</style>\n",
       "<table border=\"1\" class=\"dataframe\">\n",
       "  <thead>\n",
       "    <tr style=\"text-align: right;\">\n",
       "      <th></th>\n",
       "      <th>0</th>\n",
       "    </tr>\n",
       "  </thead>\n",
       "  <tbody>\n",
       "    <tr>\n",
       "      <th>0</th>\n",
       "      <td>b'[\\n  {\\n    \"id\": 1,\\n    \"name\": \"Lemke - W...</td>\n",
       "    </tr>\n",
       "    <tr>\n",
       "      <th>1</th>\n",
       "      <td>b'Zealand\",\\n    \"employeeCount\": 2282,\\n    \"...</td>\n",
       "    </tr>\n",
       "    <tr>\n",
       "      <th>2</th>\n",
       "      <td>b'g\",\\n    \"logo\": \"https://example.com/logo1....</td>\n",
       "    </tr>\n",
       "    <tr>\n",
       "      <th>3</th>\n",
       "      <td>b',\\n    \"address\": \"6718 Bednar Skyway\",\\n   ...</td>\n",
       "    </tr>\n",
       "    <tr>\n",
       "      <th>4</th>\n",
       "      <td>b'industry\": \"Technology\",\\n    \"marketCap\": 3...</td>\n",
       "    </tr>\n",
       "    <tr>\n",
       "      <th>5</th>\n",
       "      <td>b'ng\",\\n    \"ceoName\": \"Enrico Wuckert\"\\n  },\\...</td>\n",
       "    </tr>\n",
       "    <tr>\n",
       "      <th>6</th>\n",
       "      <td>b'\\n    \"zip\": \"09709-0816\",\\n    \"country\": \"...</td>\n",
       "    </tr>\n",
       "    <tr>\n",
       "      <th>7</th>\n",
       "      <td>b'67900,\\n    \"domain\": \"dense-farmer.name\",\\n...</td>\n",
       "    </tr>\n",
       "    <tr>\n",
       "      <th>8</th>\n",
       "      <td>b'\\n    \"id\": 4,\\n    \"name\": \"King Inc\",\\n   ...</td>\n",
       "    </tr>\n",
       "    <tr>\n",
       "      <th>9</th>\n",
       "      <td>b' of America\",\\n    \"employeeCount\": 8773,\\n ...</td>\n",
       "    </tr>\n",
       "    <tr>\n",
       "      <th>10</th>\n",
       "      <td>b'ling.org\",\\n    \"logo\": \"https://example.com...</td>\n",
       "    </tr>\n",
       "    <tr>\n",
       "      <th>11</th>\n",
       "      <td>b'y, Waters and Kuhn\",\\n    \"address\": \"255 El...</td>\n",
       "    </tr>\n",
       "    <tr>\n",
       "      <th>12</th>\n",
       "      <td>b'7,\\n    \"industry\": \"Technology\",\\n    \"mark...</td>\n",
       "    </tr>\n",
       "    <tr>\n",
       "      <th>13</th>\n",
       "      <td>b'.com/logo1.png\",\\n    \"ceoName\": \"Nona Volkm...</td>\n",
       "    </tr>\n",
       "    <tr>\n",
       "      <th>14</th>\n",
       "      <td>b'rners\",\\n    \"zip\": \"15618-1735\",\\n    \"coun...</td>\n",
       "    </tr>\n",
       "    <tr>\n",
       "      <th>15</th>\n",
       "      <td>b'Cap\": 6285849118,\\n    \"domain\": \"unruly-pac...</td>\n",
       "    </tr>\n",
       "    <tr>\n",
       "      <th>16</th>\n",
       "      <td>b'er\"\\n  },\\n  {\\n    \"id\": 6,\\n    \"name\": \"W...</td>\n",
       "    </tr>\n",
       "    <tr>\n",
       "      <th>17</th>\n",
       "      <td>b'ntry\": \"Saint Vincent and the Grenadines\",\\n...</td>\n",
       "    </tr>\n",
       "    <tr>\n",
       "      <th>18</th>\n",
       "      <td>b'    \"domain\": \"frizzy-violin.name\",\\n    \"lo...</td>\n",
       "    </tr>\n",
       "    <tr>\n",
       "      <th>19</th>\n",
       "      <td>b'id\": 7,\\n    \"name\": \"Sauer - Pagac\",\\n    \"...</td>\n",
       "    </tr>\n",
       "    <tr>\n",
       "      <th>20</th>\n",
       "      <td>b',\\n    \"employeeCount\": 6347,\\n    \"industry...</td>\n",
       "    </tr>\n",
       "    <tr>\n",
       "      <th>21</th>\n",
       "      <td>b'go\": \"https://example.com/logo1.png\",\\n    \"...</td>\n",
       "    </tr>\n",
       "    <tr>\n",
       "      <th>22</th>\n",
       "      <td>b'Kuhic\",\\n    \"address\": \"454 O&amp;#x27;Keefe Gr...</td>\n",
       "    </tr>\n",
       "    <tr>\n",
       "      <th>23</th>\n",
       "      <td>b'dustry\": \"Technology\",\\n    \"marketCap\": 933...</td>\n",
       "    </tr>\n",
       "    <tr>\n",
       "      <th>24</th>\n",
       "      <td>b'ng\",\\n    \"ceoName\": \"Beulah Koss-Ritchie\"\\n...</td>\n",
       "    </tr>\n",
       "    <tr>\n",
       "      <th>25</th>\n",
       "      <td>b'\",\\n    \"zip\": \"36643\",\\n    \"country\": \"Mex...</td>\n",
       "    </tr>\n",
       "    <tr>\n",
       "      <th>26</th>\n",
       "      <td>b'589,\\n    \"domain\": \"essential-spirit.name\",...</td>\n",
       "    </tr>\n",
       "    <tr>\n",
       "      <th>27</th>\n",
       "      <td>b'  \"id\": 10,\\n    \"name\": \"Kozey, Reichel and...</td>\n",
       "    </tr>\n",
       "    <tr>\n",
       "      <th>28</th>\n",
       "      <td>b' \"Bahamas\",\\n    \"employeeCount\": 8381,\\n   ...</td>\n",
       "    </tr>\n",
       "    <tr>\n",
       "      <th>29</th>\n",
       "      <td>b'm\",\\n    \"logo\": \"https://example.com/logo1....</td>\n",
       "    </tr>\n",
       "  </tbody>\n",
       "</table>\n",
       "</div>"
      ],
      "text/plain": [
       "                                                    0\n",
       "0   b'[\\n  {\\n    \"id\": 1,\\n    \"name\": \"Lemke - W...\n",
       "1   b'Zealand\",\\n    \"employeeCount\": 2282,\\n    \"...\n",
       "2   b'g\",\\n    \"logo\": \"https://example.com/logo1....\n",
       "3   b',\\n    \"address\": \"6718 Bednar Skyway\",\\n   ...\n",
       "4   b'industry\": \"Technology\",\\n    \"marketCap\": 3...\n",
       "5   b'ng\",\\n    \"ceoName\": \"Enrico Wuckert\"\\n  },\\...\n",
       "6   b'\\n    \"zip\": \"09709-0816\",\\n    \"country\": \"...\n",
       "7   b'67900,\\n    \"domain\": \"dense-farmer.name\",\\n...\n",
       "8   b'\\n    \"id\": 4,\\n    \"name\": \"King Inc\",\\n   ...\n",
       "9   b' of America\",\\n    \"employeeCount\": 8773,\\n ...\n",
       "10  b'ling.org\",\\n    \"logo\": \"https://example.com...\n",
       "11  b'y, Waters and Kuhn\",\\n    \"address\": \"255 El...\n",
       "12  b'7,\\n    \"industry\": \"Technology\",\\n    \"mark...\n",
       "13  b'.com/logo1.png\",\\n    \"ceoName\": \"Nona Volkm...\n",
       "14  b'rners\",\\n    \"zip\": \"15618-1735\",\\n    \"coun...\n",
       "15  b'Cap\": 6285849118,\\n    \"domain\": \"unruly-pac...\n",
       "16  b'er\"\\n  },\\n  {\\n    \"id\": 6,\\n    \"name\": \"W...\n",
       "17  b'ntry\": \"Saint Vincent and the Grenadines\",\\n...\n",
       "18  b'    \"domain\": \"frizzy-violin.name\",\\n    \"lo...\n",
       "19  b'id\": 7,\\n    \"name\": \"Sauer - Pagac\",\\n    \"...\n",
       "20  b',\\n    \"employeeCount\": 6347,\\n    \"industry...\n",
       "21  b'go\": \"https://example.com/logo1.png\",\\n    \"...\n",
       "22  b'Kuhic\",\\n    \"address\": \"454 O&#x27;Keefe Gr...\n",
       "23  b'dustry\": \"Technology\",\\n    \"marketCap\": 933...\n",
       "24  b'ng\",\\n    \"ceoName\": \"Beulah Koss-Ritchie\"\\n...\n",
       "25  b'\",\\n    \"zip\": \"36643\",\\n    \"country\": \"Mex...\n",
       "26  b'589,\\n    \"domain\": \"essential-spirit.name\",...\n",
       "27  b'  \"id\": 10,\\n    \"name\": \"Kozey, Reichel and...\n",
       "28  b' \"Bahamas\",\\n    \"employeeCount\": 8381,\\n   ...\n",
       "29  b'm\",\\n    \"logo\": \"https://example.com/logo1...."
      ]
     },
     "execution_count": 65,
     "metadata": {},
     "output_type": "execute_result"
    }
   ],
   "source": [
    "df =pd.DataFrame(data)\n",
    "df"
   ]
  },
  {
   "cell_type": "markdown",
   "id": "7f6a9bd9-5cb5-4cc4-9717-9e069d0eaf85",
   "metadata": {},
   "source": [
    "## shape"
   ]
  },
  {
   "cell_type": "code",
   "execution_count": 63,
   "id": "926ee953-6141-4566-b471-ab8b3ffd88f4",
   "metadata": {},
   "outputs": [
    {
     "data": {
      "text/plain": [
       "(30, 1)"
      ]
     },
     "execution_count": 63,
     "metadata": {},
     "output_type": "execute_result"
    }
   ],
   "source": [
    "df.shape"
   ]
  },
  {
   "cell_type": "markdown",
   "id": "b4d2ad92-4242-4119-9b6c-b1cbc2c767fa",
   "metadata": {},
   "source": [
    "## info()"
   ]
  },
  {
   "cell_type": "code",
   "execution_count": 64,
   "id": "67b7b3d8-4d75-4f32-a62d-0085df492c14",
   "metadata": {},
   "outputs": [
    {
     "name": "stdout",
     "output_type": "stream",
     "text": [
      "<class 'pandas.core.frame.DataFrame'>\n",
      "RangeIndex: 30 entries, 0 to 29\n",
      "Data columns (total 1 columns):\n",
      " #   Column  Non-Null Count  Dtype \n",
      "---  ------  --------------  ----- \n",
      " 0   0       30 non-null     object\n",
      "dtypes: object(1)\n",
      "memory usage: 372.0+ bytes\n"
     ]
    }
   ],
   "source": [
    "df.info()"
   ]
  },
  {
   "cell_type": "markdown",
   "id": "24e53194-5cb7-4206-bfcc-302a88091312",
   "metadata": {},
   "source": [
    "# api 2"
   ]
  },
  {
   "cell_type": "code",
   "execution_count": 68,
   "id": "bd2d1111-a277-457b-9329-66d2bea089ce",
   "metadata": {},
   "outputs": [],
   "source": [
    "data2 = rq.get('https://api.data.gov.in/resource/8d3b6596-b09e-4077-aebf-425193185a5b?api-key=579b464db66ec23bdd000001cdc3b564546246a772a26393094f5645&offset=0&limit=all&format=csv&format=json')"
   ]
  },
  {
   "cell_type": "markdown",
   "id": "9bc0d7c4-4b0f-480b-be26-6212f6839602",
   "metadata": {},
   "source": [
    "## Converting to Dataframe"
   ]
  },
  {
   "cell_type": "code",
   "execution_count": 70,
   "id": "188efda9-fb09-4a61-a37e-024161849b27",
   "metadata": {},
   "outputs": [
    {
     "data": {
      "text/html": [
       "<div>\n",
       "<style scoped>\n",
       "    .dataframe tbody tr th:only-of-type {\n",
       "        vertical-align: middle;\n",
       "    }\n",
       "\n",
       "    .dataframe tbody tr th {\n",
       "        vertical-align: top;\n",
       "    }\n",
       "\n",
       "    .dataframe thead th {\n",
       "        text-align: right;\n",
       "    }\n",
       "</style>\n",
       "<table border=\"1\" class=\"dataframe\">\n",
       "  <thead>\n",
       "    <tr style=\"text-align: right;\">\n",
       "      <th></th>\n",
       "      <th>0</th>\n",
       "    </tr>\n",
       "  </thead>\n",
       "  <tbody>\n",
       "    <tr>\n",
       "      <th>0</th>\n",
       "      <td>b'{\\n    \"index_name\": \"8d3b6596-b09e-4077-aeb...</td>\n",
       "    </tr>\n",
       "    <tr>\n",
       "      <th>1</th>\n",
       "      <td>b': \"Monthly Crude Oil Processed by Refineries...</td>\n",
       "    </tr>\n",
       "    <tr>\n",
       "      <th>2</th>\n",
       "      <td>b'3-06-22T17:24:31Z\",\\n    \"updated_date\": \"20...</td>\n",
       "    </tr>\n",
       "    <tr>\n",
       "      <th>3</th>\n",
       "      <td>b'\"ed4dbe82-439e-4e7f-b217-ce64627a49fc\",\\n   ...</td>\n",
       "    </tr>\n",
       "    <tr>\n",
       "      <th>4</th>\n",
       "      <td>b'f Petroleum and Natural Gas\",\\n        \"Petr...</td>\n",
       "    </tr>\n",
       "    <tr>\n",
       "      <th>...</th>\n",
       "      <td>...</td>\n",
       "    </tr>\n",
       "    <tr>\n",
       "      <th>2044</th>\n",
       "      <td>b'ntity_000_metric_tonnes_\": \"2839.00\"\\n      ...</td>\n",
       "    </tr>\n",
       "    <tr>\n",
       "      <th>2045</th>\n",
       "      <td>b'  \"oil_companies_\": \"RIL-(SEZ), JAMNAGAR,GUJ...</td>\n",
       "    </tr>\n",
       "    <tr>\n",
       "      <th>2046</th>\n",
       "      <td>b'         \"_month_\": \"March\",\\n            \"y...</td>\n",
       "    </tr>\n",
       "    <tr>\n",
       "      <th>2047</th>\n",
       "      <td>b'ity_000_metric_tonnes_\": \"1627.00\"\\n        ...</td>\n",
       "    </tr>\n",
       "    <tr>\n",
       "      <th>2048</th>\n",
       "      <td>b'\"oil_companies_\": \"GRAND TOTAL\",\\n          ...</td>\n",
       "    </tr>\n",
       "  </tbody>\n",
       "</table>\n",
       "<p>2049 rows × 1 columns</p>\n",
       "</div>"
      ],
      "text/plain": [
       "                                                      0\n",
       "0     b'{\\n    \"index_name\": \"8d3b6596-b09e-4077-aeb...\n",
       "1     b': \"Monthly Crude Oil Processed by Refineries...\n",
       "2     b'3-06-22T17:24:31Z\",\\n    \"updated_date\": \"20...\n",
       "3     b'\"ed4dbe82-439e-4e7f-b217-ce64627a49fc\",\\n   ...\n",
       "4     b'f Petroleum and Natural Gas\",\\n        \"Petr...\n",
       "...                                                 ...\n",
       "2044  b'ntity_000_metric_tonnes_\": \"2839.00\"\\n      ...\n",
       "2045  b'  \"oil_companies_\": \"RIL-(SEZ), JAMNAGAR,GUJ...\n",
       "2046  b'         \"_month_\": \"March\",\\n            \"y...\n",
       "2047  b'ity_000_metric_tonnes_\": \"1627.00\"\\n        ...\n",
       "2048  b'\"oil_companies_\": \"GRAND TOTAL\",\\n          ...\n",
       "\n",
       "[2049 rows x 1 columns]"
      ]
     },
     "execution_count": 70,
     "metadata": {},
     "output_type": "execute_result"
    }
   ],
   "source": [
    "df2 = pd.DataFrame(data2)\n",
    "df2"
   ]
  },
  {
   "cell_type": "markdown",
   "id": "5d3857d9-eb3b-4872-83c3-beae1d6dff2b",
   "metadata": {},
   "source": [
    "## Describe()"
   ]
  },
  {
   "cell_type": "code",
   "execution_count": 71,
   "id": "3f464ffd-17c5-4f84-9dce-a997d1e6cf6e",
   "metadata": {},
   "outputs": [
    {
     "data": {
      "text/html": [
       "<div>\n",
       "<style scoped>\n",
       "    .dataframe tbody tr th:only-of-type {\n",
       "        vertical-align: middle;\n",
       "    }\n",
       "\n",
       "    .dataframe tbody tr th {\n",
       "        vertical-align: top;\n",
       "    }\n",
       "\n",
       "    .dataframe thead th {\n",
       "        text-align: right;\n",
       "    }\n",
       "</style>\n",
       "<table border=\"1\" class=\"dataframe\">\n",
       "  <thead>\n",
       "    <tr style=\"text-align: right;\">\n",
       "      <th></th>\n",
       "      <th>0</th>\n",
       "    </tr>\n",
       "  </thead>\n",
       "  <tbody>\n",
       "    <tr>\n",
       "      <th>count</th>\n",
       "      <td>2049</td>\n",
       "    </tr>\n",
       "    <tr>\n",
       "      <th>unique</th>\n",
       "      <td>2047</td>\n",
       "    </tr>\n",
       "    <tr>\n",
       "      <th>top</th>\n",
       "      <td>b',\\n            \"year\": \"2020\",\\n            ...</td>\n",
       "    </tr>\n",
       "    <tr>\n",
       "      <th>freq</th>\n",
       "      <td>2</td>\n",
       "    </tr>\n",
       "  </tbody>\n",
       "</table>\n",
       "</div>"
      ],
      "text/plain": [
       "                                                        0\n",
       "count                                                2049\n",
       "unique                                               2047\n",
       "top     b',\\n            \"year\": \"2020\",\\n            ...\n",
       "freq                                                    2"
      ]
     },
     "execution_count": 71,
     "metadata": {},
     "output_type": "execute_result"
    }
   ],
   "source": [
    "df2.describe()"
   ]
  },
  {
   "cell_type": "markdown",
   "id": "fa2ae479-fa8c-4bac-a7d8-8a1c3d3030f6",
   "metadata": {},
   "source": [
    "## shape"
   ]
  },
  {
   "cell_type": "code",
   "execution_count": 72,
   "id": "67bbc524-76c6-40f1-ab93-df11074f53d4",
   "metadata": {},
   "outputs": [
    {
     "data": {
      "text/plain": [
       "(2049, 1)"
      ]
     },
     "execution_count": 72,
     "metadata": {},
     "output_type": "execute_result"
    }
   ],
   "source": [
    "df2.shape"
   ]
  },
  {
   "cell_type": "markdown",
   "id": "2d4c10b5-91db-4a02-b052-016cd2ecec35",
   "metadata": {},
   "source": [
    "## Creating a new Dataframe Varibale to store the 'Records' field data\n",
    "### converting the DataFrame from .json to .csv file"
   ]
  },
  {
   "cell_type": "code",
   "execution_count": 79,
   "id": "a1481777-1b95-412c-a746-c2da67eea0ba",
   "metadata": {},
   "outputs": [],
   "source": [
    "df3=pd.DataFrame(data2.json()['records'])\n",
    "df3.to_csv('Dataset/gov.csv')"
   ]
  },
  {
   "cell_type": "markdown",
   "id": "271b0371-065b-4ffe-8fd4-4308a0f3a25c",
   "metadata": {},
   "source": [
    "# imporyting .html file"
   ]
  },
  {
   "cell_type": "code",
   "execution_count": 85,
   "id": "941e872f-f48c-4b2b-9ae0-f6ceb32eee8a",
   "metadata": {},
   "outputs": [
    {
     "data": {
      "text/html": [
       "<div>\n",
       "<style scoped>\n",
       "    .dataframe tbody tr th:only-of-type {\n",
       "        vertical-align: middle;\n",
       "    }\n",
       "\n",
       "    .dataframe tbody tr th {\n",
       "        vertical-align: top;\n",
       "    }\n",
       "\n",
       "    .dataframe thead th {\n",
       "        text-align: right;\n",
       "    }\n",
       "</style>\n",
       "<table border=\"1\" class=\"dataframe\">\n",
       "  <thead>\n",
       "    <tr style=\"text-align: right;\">\n",
       "      <th></th>\n",
       "      <th>Name</th>\n",
       "      <th>Age</th>\n",
       "      <th>City</th>\n",
       "      <th>Country</th>\n",
       "    </tr>\n",
       "  </thead>\n",
       "  <tbody>\n",
       "    <tr>\n",
       "      <th>0</th>\n",
       "      <td>John Doe</td>\n",
       "      <td>29</td>\n",
       "      <td>New York</td>\n",
       "      <td>USA</td>\n",
       "    </tr>\n",
       "    <tr>\n",
       "      <th>1</th>\n",
       "      <td>Jane Smith</td>\n",
       "      <td>34</td>\n",
       "      <td>London</td>\n",
       "      <td>UK</td>\n",
       "    </tr>\n",
       "    <tr>\n",
       "      <th>2</th>\n",
       "      <td>Chris Johnson</td>\n",
       "      <td>45</td>\n",
       "      <td>Toronto</td>\n",
       "      <td>Canada</td>\n",
       "    </tr>\n",
       "    <tr>\n",
       "      <th>3</th>\n",
       "      <td>Emily Davis</td>\n",
       "      <td>22</td>\n",
       "      <td>Sydney</td>\n",
       "      <td>Australia</td>\n",
       "    </tr>\n",
       "  </tbody>\n",
       "</table>\n",
       "</div>"
      ],
      "text/plain": [
       "            Name  Age      City    Country\n",
       "0       John Doe   29  New York        USA\n",
       "1     Jane Smith   34    London         UK\n",
       "2  Chris Johnson   45   Toronto     Canada\n",
       "3    Emily Davis   22    Sydney  Australia"
      ]
     },
     "execution_count": 85,
     "metadata": {},
     "output_type": "execute_result"
    }
   ],
   "source": [
    "\n",
    "from bs4 import BeautifulSoup\n",
    "path4 = 'Dataset/index.html'\n",
    "df = pd.read_html(path4)\n",
    "df[0]"
   ]
  },
  {
   "cell_type": "code",
   "execution_count": null,
   "id": "64a8165a-d88f-415c-a722-0bfae4ac5c80",
   "metadata": {},
   "outputs": [],
   "source": []
  }
 ],
 "metadata": {
  "kernelspec": {
   "display_name": "Python [conda env:base] *",
   "language": "python",
   "name": "conda-base-py"
  },
  "language_info": {
   "codemirror_mode": {
    "name": "ipython",
    "version": 3
   },
   "file_extension": ".py",
   "mimetype": "text/x-python",
   "name": "python",
   "nbconvert_exporter": "python",
   "pygments_lexer": "ipython3",
   "version": "3.12.4"
  }
 },
 "nbformat": 4,
 "nbformat_minor": 5
}
