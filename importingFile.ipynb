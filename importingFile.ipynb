{
 "cells": [
  {
   "cell_type": "markdown",
   "id": "0ccc67ec-ffba-40ac-81ef-2736f0c49b0f",
   "metadata": {},
   "source": [
    "# Importing .csv File"
   ]
  },
  {
   "cell_type": "code",
   "execution_count": 21,
   "id": "7abb9b42-838b-44a0-8820-d5c5d2f92ea4",
   "metadata": {},
   "outputs": [],
   "source": [
    "import pandas as pd\n",
    "path = 'HDFC.csv'"
   ]
  },
  {
   "cell_type": "markdown",
   "id": "833d32c6-d7e6-4ea4-b40f-94dc889bba01",
   "metadata": {},
   "source": [
    "### Reading File"
   ]
  },
  {
   "cell_type": "code",
   "execution_count": 22,
   "id": "5c6880e1-fb93-426d-abcf-4330e600d651",
   "metadata": {},
   "outputs": [
    {
     "data": {
      "text/html": [
       "<div>\n",
       "<style scoped>\n",
       "    .dataframe tbody tr th:only-of-type {\n",
       "        vertical-align: middle;\n",
       "    }\n",
       "\n",
       "    .dataframe tbody tr th {\n",
       "        vertical-align: top;\n",
       "    }\n",
       "\n",
       "    .dataframe thead th {\n",
       "        text-align: right;\n",
       "    }\n",
       "</style>\n",
       "<table border=\"1\" class=\"dataframe\">\n",
       "  <thead>\n",
       "    <tr style=\"text-align: right;\">\n",
       "      <th></th>\n",
       "      <th>Date</th>\n",
       "      <th>Symbol</th>\n",
       "      <th>Series</th>\n",
       "      <th>Prev Close</th>\n",
       "      <th>Open</th>\n",
       "      <th>High</th>\n",
       "      <th>Low</th>\n",
       "      <th>Last</th>\n",
       "      <th>Close</th>\n",
       "      <th>VWAP</th>\n",
       "      <th>Volume</th>\n",
       "      <th>Turnover</th>\n",
       "      <th>Trades</th>\n",
       "      <th>Deliverable Volume</th>\n",
       "      <th>%Deliverble</th>\n",
       "    </tr>\n",
       "  </thead>\n",
       "  <tbody>\n",
       "    <tr>\n",
       "      <th>0</th>\n",
       "      <td>2000-01-03</td>\n",
       "      <td>HDFC</td>\n",
       "      <td>EQ</td>\n",
       "      <td>271.75</td>\n",
       "      <td>293.5</td>\n",
       "      <td>293.50</td>\n",
       "      <td>293.5</td>\n",
       "      <td>293.5</td>\n",
       "      <td>293.50</td>\n",
       "      <td>293.50</td>\n",
       "      <td>22744</td>\n",
       "      <td>6.675364e+11</td>\n",
       "      <td>NaN</td>\n",
       "      <td>NaN</td>\n",
       "      <td>NaN</td>\n",
       "    </tr>\n",
       "    <tr>\n",
       "      <th>1</th>\n",
       "      <td>2000-01-04</td>\n",
       "      <td>HDFC</td>\n",
       "      <td>EQ</td>\n",
       "      <td>293.50</td>\n",
       "      <td>317.0</td>\n",
       "      <td>317.00</td>\n",
       "      <td>297.0</td>\n",
       "      <td>304.0</td>\n",
       "      <td>304.05</td>\n",
       "      <td>303.62</td>\n",
       "      <td>255251</td>\n",
       "      <td>7.749972e+12</td>\n",
       "      <td>NaN</td>\n",
       "      <td>NaN</td>\n",
       "      <td>NaN</td>\n",
       "    </tr>\n",
       "    <tr>\n",
       "      <th>2</th>\n",
       "      <td>2000-01-05</td>\n",
       "      <td>HDFC</td>\n",
       "      <td>EQ</td>\n",
       "      <td>304.05</td>\n",
       "      <td>290.0</td>\n",
       "      <td>303.90</td>\n",
       "      <td>285.0</td>\n",
       "      <td>295.0</td>\n",
       "      <td>292.80</td>\n",
       "      <td>294.53</td>\n",
       "      <td>269087</td>\n",
       "      <td>7.925368e+12</td>\n",
       "      <td>NaN</td>\n",
       "      <td>NaN</td>\n",
       "      <td>NaN</td>\n",
       "    </tr>\n",
       "    <tr>\n",
       "      <th>3</th>\n",
       "      <td>2000-01-06</td>\n",
       "      <td>HDFC</td>\n",
       "      <td>EQ</td>\n",
       "      <td>292.80</td>\n",
       "      <td>301.0</td>\n",
       "      <td>314.00</td>\n",
       "      <td>295.0</td>\n",
       "      <td>296.0</td>\n",
       "      <td>296.45</td>\n",
       "      <td>300.14</td>\n",
       "      <td>305916</td>\n",
       "      <td>9.181669e+12</td>\n",
       "      <td>NaN</td>\n",
       "      <td>NaN</td>\n",
       "      <td>NaN</td>\n",
       "    </tr>\n",
       "    <tr>\n",
       "      <th>4</th>\n",
       "      <td>2000-01-07</td>\n",
       "      <td>HDFC</td>\n",
       "      <td>EQ</td>\n",
       "      <td>296.45</td>\n",
       "      <td>290.0</td>\n",
       "      <td>296.35</td>\n",
       "      <td>281.0</td>\n",
       "      <td>287.1</td>\n",
       "      <td>286.55</td>\n",
       "      <td>288.80</td>\n",
       "      <td>197039</td>\n",
       "      <td>5.690480e+12</td>\n",
       "      <td>NaN</td>\n",
       "      <td>NaN</td>\n",
       "      <td>NaN</td>\n",
       "    </tr>\n",
       "  </tbody>\n",
       "</table>\n",
       "</div>"
      ],
      "text/plain": [
       "         Date Symbol Series  Prev Close   Open    High    Low   Last   Close  \\\n",
       "0  2000-01-03   HDFC     EQ      271.75  293.5  293.50  293.5  293.5  293.50   \n",
       "1  2000-01-04   HDFC     EQ      293.50  317.0  317.00  297.0  304.0  304.05   \n",
       "2  2000-01-05   HDFC     EQ      304.05  290.0  303.90  285.0  295.0  292.80   \n",
       "3  2000-01-06   HDFC     EQ      292.80  301.0  314.00  295.0  296.0  296.45   \n",
       "4  2000-01-07   HDFC     EQ      296.45  290.0  296.35  281.0  287.1  286.55   \n",
       "\n",
       "     VWAP  Volume      Turnover  Trades  Deliverable Volume  %Deliverble  \n",
       "0  293.50   22744  6.675364e+11     NaN                 NaN          NaN  \n",
       "1  303.62  255251  7.749972e+12     NaN                 NaN          NaN  \n",
       "2  294.53  269087  7.925368e+12     NaN                 NaN          NaN  \n",
       "3  300.14  305916  9.181669e+12     NaN                 NaN          NaN  \n",
       "4  288.80  197039  5.690480e+12     NaN                 NaN          NaN  "
      ]
     },
     "execution_count": 22,
     "metadata": {},
     "output_type": "execute_result"
    }
   ],
   "source": [
    "df = pd.read_csv(path)\n",
    "df.head()"
   ]
  },
  {
   "cell_type": "markdown",
   "id": "fff76c0d-eb49-40f8-836d-157a07992df9",
   "metadata": {},
   "source": [
    "### Min & Max"
   ]
  },
  {
   "cell_type": "code",
   "execution_count": 23,
   "id": "d9644f44-2eba-46cc-9995-67a62138ead5",
   "metadata": {},
   "outputs": [
    {
     "data": {
      "text/plain": [
       "284.0"
      ]
     },
     "execution_count": 23,
     "metadata": {},
     "output_type": "execute_result"
    }
   ],
   "source": [
    "df['Open'].min()"
   ]
  },
  {
   "cell_type": "code",
   "execution_count": 19,
   "id": "c945427f-50f7-47c4-b69e-61e1a51aa0bb",
   "metadata": {},
   "outputs": [
    {
     "data": {
      "text/plain": [
       "3148.0"
      ]
     },
     "execution_count": 19,
     "metadata": {},
     "output_type": "execute_result"
    }
   ],
   "source": [
    "df['Open'].max()"
   ]
  },
  {
   "cell_type": "markdown",
   "id": "5bf520df-571b-46e8-b913-83347c66eda1",
   "metadata": {},
   "source": [
    "### Summary"
   ]
  },
  {
   "cell_type": "code",
   "execution_count": 20,
   "id": "5b749477-9a25-4e84-bd6e-d9f9b04696af",
   "metadata": {},
   "outputs": [
    {
     "data": {
      "text/html": [
       "<div>\n",
       "<style scoped>\n",
       "    .dataframe tbody tr th:only-of-type {\n",
       "        vertical-align: middle;\n",
       "    }\n",
       "\n",
       "    .dataframe tbody tr th {\n",
       "        vertical-align: top;\n",
       "    }\n",
       "\n",
       "    .dataframe thead th {\n",
       "        text-align: right;\n",
       "    }\n",
       "</style>\n",
       "<table border=\"1\" class=\"dataframe\">\n",
       "  <thead>\n",
       "    <tr style=\"text-align: right;\">\n",
       "      <th></th>\n",
       "      <th>Prev Close</th>\n",
       "      <th>Open</th>\n",
       "      <th>High</th>\n",
       "      <th>Low</th>\n",
       "      <th>Last</th>\n",
       "      <th>Close</th>\n",
       "      <th>VWAP</th>\n",
       "      <th>Volume</th>\n",
       "      <th>Turnover</th>\n",
       "      <th>Trades</th>\n",
       "      <th>Deliverable Volume</th>\n",
       "      <th>%Deliverble</th>\n",
       "    </tr>\n",
       "  </thead>\n",
       "  <tbody>\n",
       "    <tr>\n",
       "      <th>count</th>\n",
       "      <td>5306.000000</td>\n",
       "      <td>5306.000000</td>\n",
       "      <td>5306.000000</td>\n",
       "      <td>5306.000000</td>\n",
       "      <td>5306.000000</td>\n",
       "      <td>5306.000000</td>\n",
       "      <td>5306.000000</td>\n",
       "      <td>5.306000e+03</td>\n",
       "      <td>5.306000e+03</td>\n",
       "      <td>2456.000000</td>\n",
       "      <td>4.797000e+03</td>\n",
       "      <td>4797.000000</td>\n",
       "    </tr>\n",
       "    <tr>\n",
       "      <th>mean</th>\n",
       "      <td>1283.666114</td>\n",
       "      <td>1284.393074</td>\n",
       "      <td>1304.269732</td>\n",
       "      <td>1263.297842</td>\n",
       "      <td>1283.885017</td>\n",
       "      <td>1284.071005</td>\n",
       "      <td>1283.664578</td>\n",
       "      <td>1.848187e+06</td>\n",
       "      <td>2.620759e+14</td>\n",
       "      <td>102159.051303</td>\n",
       "      <td>1.329440e+06</td>\n",
       "      <td>0.653088</td>\n",
       "    </tr>\n",
       "    <tr>\n",
       "      <th>std</th>\n",
       "      <td>709.395090</td>\n",
       "      <td>709.703665</td>\n",
       "      <td>721.308080</td>\n",
       "      <td>697.450309</td>\n",
       "      <td>709.250204</td>\n",
       "      <td>709.430515</td>\n",
       "      <td>709.109622</td>\n",
       "      <td>2.991387e+06</td>\n",
       "      <td>3.607844e+14</td>\n",
       "      <td>57948.603200</td>\n",
       "      <td>2.555073e+06</td>\n",
       "      <td>0.128115</td>\n",
       "    </tr>\n",
       "    <tr>\n",
       "      <th>min</th>\n",
       "      <td>271.750000</td>\n",
       "      <td>284.000000</td>\n",
       "      <td>290.500000</td>\n",
       "      <td>273.250000</td>\n",
       "      <td>282.850000</td>\n",
       "      <td>283.850000</td>\n",
       "      <td>283.600000</td>\n",
       "      <td>2.919000e+03</td>\n",
       "      <td>1.834686e+11</td>\n",
       "      <td>973.000000</td>\n",
       "      <td>1.786000e+03</td>\n",
       "      <td>0.119000</td>\n",
       "    </tr>\n",
       "    <tr>\n",
       "      <th>25%</th>\n",
       "      <td>668.650000</td>\n",
       "      <td>669.712500</td>\n",
       "      <td>677.512500</td>\n",
       "      <td>660.000000</td>\n",
       "      <td>669.000000</td>\n",
       "      <td>668.662500</td>\n",
       "      <td>668.265000</td>\n",
       "      <td>3.034970e+05</td>\n",
       "      <td>2.461178e+13</td>\n",
       "      <td>62011.500000</td>\n",
       "      <td>2.688070e+05</td>\n",
       "      <td>0.575200</td>\n",
       "    </tr>\n",
       "    <tr>\n",
       "      <th>50%</th>\n",
       "      <td>1136.275000</td>\n",
       "      <td>1135.400000</td>\n",
       "      <td>1156.725000</td>\n",
       "      <td>1119.000000</td>\n",
       "      <td>1135.000000</td>\n",
       "      <td>1136.675000</td>\n",
       "      <td>1136.720000</td>\n",
       "      <td>1.337788e+06</td>\n",
       "      <td>1.684207e+14</td>\n",
       "      <td>90405.000000</td>\n",
       "      <td>1.021574e+06</td>\n",
       "      <td>0.666900</td>\n",
       "    </tr>\n",
       "    <tr>\n",
       "      <th>75%</th>\n",
       "      <td>1811.475000</td>\n",
       "      <td>1813.812500</td>\n",
       "      <td>1835.000000</td>\n",
       "      <td>1783.075000</td>\n",
       "      <td>1812.000000</td>\n",
       "      <td>1811.787500</td>\n",
       "      <td>1811.680000</td>\n",
       "      <td>2.732310e+06</td>\n",
       "      <td>3.419282e+14</td>\n",
       "      <td>129754.500000</td>\n",
       "      <td>1.939101e+06</td>\n",
       "      <td>0.742000</td>\n",
       "    </tr>\n",
       "    <tr>\n",
       "      <th>max</th>\n",
       "      <td>3180.150000</td>\n",
       "      <td>3148.000000</td>\n",
       "      <td>3262.000000</td>\n",
       "      <td>3100.550000</td>\n",
       "      <td>3178.000000</td>\n",
       "      <td>3180.150000</td>\n",
       "      <td>3166.580000</td>\n",
       "      <td>1.584141e+08</td>\n",
       "      <td>1.043773e+16</td>\n",
       "      <td>538170.000000</td>\n",
       "      <td>1.483131e+08</td>\n",
       "      <td>0.989400</td>\n",
       "    </tr>\n",
       "  </tbody>\n",
       "</table>\n",
       "</div>"
      ],
      "text/plain": [
       "        Prev Close         Open         High          Low         Last  \\\n",
       "count  5306.000000  5306.000000  5306.000000  5306.000000  5306.000000   \n",
       "mean   1283.666114  1284.393074  1304.269732  1263.297842  1283.885017   \n",
       "std     709.395090   709.703665   721.308080   697.450309   709.250204   \n",
       "min     271.750000   284.000000   290.500000   273.250000   282.850000   \n",
       "25%     668.650000   669.712500   677.512500   660.000000   669.000000   \n",
       "50%    1136.275000  1135.400000  1156.725000  1119.000000  1135.000000   \n",
       "75%    1811.475000  1813.812500  1835.000000  1783.075000  1812.000000   \n",
       "max    3180.150000  3148.000000  3262.000000  3100.550000  3178.000000   \n",
       "\n",
       "             Close         VWAP        Volume      Turnover         Trades  \\\n",
       "count  5306.000000  5306.000000  5.306000e+03  5.306000e+03    2456.000000   \n",
       "mean   1284.071005  1283.664578  1.848187e+06  2.620759e+14  102159.051303   \n",
       "std     709.430515   709.109622  2.991387e+06  3.607844e+14   57948.603200   \n",
       "min     283.850000   283.600000  2.919000e+03  1.834686e+11     973.000000   \n",
       "25%     668.662500   668.265000  3.034970e+05  2.461178e+13   62011.500000   \n",
       "50%    1136.675000  1136.720000  1.337788e+06  1.684207e+14   90405.000000   \n",
       "75%    1811.787500  1811.680000  2.732310e+06  3.419282e+14  129754.500000   \n",
       "max    3180.150000  3166.580000  1.584141e+08  1.043773e+16  538170.000000   \n",
       "\n",
       "       Deliverable Volume  %Deliverble  \n",
       "count        4.797000e+03  4797.000000  \n",
       "mean         1.329440e+06     0.653088  \n",
       "std          2.555073e+06     0.128115  \n",
       "min          1.786000e+03     0.119000  \n",
       "25%          2.688070e+05     0.575200  \n",
       "50%          1.021574e+06     0.666900  \n",
       "75%          1.939101e+06     0.742000  \n",
       "max          1.483131e+08     0.989400  "
      ]
     },
     "execution_count": 20,
     "metadata": {},
     "output_type": "execute_result"
    }
   ],
   "source": [
    "df.describe()"
   ]
  },
  {
   "cell_type": "code",
   "execution_count": 27,
   "id": "f78d8000-2c96-41dd-8cef-84016449c6de",
   "metadata": {},
   "outputs": [
    {
     "data": {
      "text/plain": [
       "293.5"
      ]
     },
     "execution_count": 27,
     "metadata": {},
     "output_type": "execute_result"
    }
   ],
   "source": [
    "open = df['Open']\n",
    "open[0]"
   ]
  },
  {
   "cell_type": "code",
   "execution_count": 34,
   "id": "fa4719c4-2a6f-41be-b9d2-5c6d3da23ddd",
   "metadata": {},
   "outputs": [
    {
     "data": {
      "text/plain": [
       "Date                       2000-01-05\n",
       "Symbol                           HDFC\n",
       "Series                             EQ\n",
       "Prev Close                     304.05\n",
       "Open                            290.0\n",
       "High                            303.9\n",
       "Low                             285.0\n",
       "Last                            295.0\n",
       "Close                           292.8\n",
       "VWAP                           294.53\n",
       "Volume                         269087\n",
       "Turnover              7925367705000.0\n",
       "Trades                            NaN\n",
       "Deliverable Volume                NaN\n",
       "%Deliverble                       NaN\n",
       "Name: 2, dtype: object"
      ]
     },
     "execution_count": 34,
     "metadata": {},
     "output_type": "execute_result"
    }
   ],
   "source": [
    "df.iloc[2]"
   ]
  },
  {
   "cell_type": "markdown",
   "id": "4dba6803-5c26-4d41-82ec-56f142fe8518",
   "metadata": {},
   "source": [
    "# Scattered Plot in Matplotlib"
   ]
  },
  {
   "cell_type": "code",
   "execution_count": 35,
   "id": "c2b6d00a-4641-4abe-b527-52624d45ddc3",
   "metadata": {},
   "outputs": [],
   "source": [
    "import matplotlib.pyplot as plt"
   ]
  },
  {
   "cell_type": "markdown",
   "id": "e8063a53-3530-45ea-9481-023291d0e6fd",
   "metadata": {},
   "source": [
    "### x-axis & Y-axis "
   ]
  },
  {
   "cell_type": "code",
   "execution_count": 36,
   "id": "fda5f5b6-3833-481c-b2a4-b527e282f37e",
   "metadata": {},
   "outputs": [],
   "source": [
    "x = df['Date']\n",
    "y = df['Open']"
   ]
  },
  {
   "cell_type": "markdown",
   "id": "19d5d464-df8a-4df1-bed0-b7ac4ccb508b",
   "metadata": {},
   "source": [
    "### ploting Scattered plot"
   ]
  },
  {
   "cell_type": "code",
   "execution_count": 38,
   "id": "63383df9-4746-45e7-9e8c-5392012d3137",
   "metadata": {},
   "outputs": [
    {
     "data": {
      "text/plain": [
       "Text(0.5, 1.0, 'Simple Scatter Plot')"
      ]
     },
     "execution_count": 38,
     "metadata": {},
     "output_type": "execute_result"
    },
    {
     "data": {
      "image/png": "[encoded data removed]",
      "text/plain": [
       "<Figure size 640x480 with 1 Axes>"
      ]
     },
     "metadata": {},
     "output_type": "display_data"
    }
   ],
   "source": [
    "plt.scatter(x, y, color='blue', label='Data Points')\n",
    "plt.xlabel('X-axis')\n",
    "plt.ylabel('Y-axis')\n",
    "plt.title('Simple Scatter Plot')"
   ]
  }
 ],
 "metadata": {
  "kernelspec": {
   "display_name": "Python [conda env:base] *",
   "language": "python",
   "name": "conda-base-py"
  },
  "language_info": {
   "codemirror_mode": {
    "name": "ipython",
    "version": 3
   },
   "file_extension": ".py",
   "mimetype": "text/x-python",
   "name": "python",
   "nbconvert_exporter": "python",
   "pygments_lexer": "ipython3",
   "version": "3.12.4"
  }
 },
 "nbformat": 4,
 "nbformat_minor": 5
}
